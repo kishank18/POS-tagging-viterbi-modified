{
 "cells": [
  {
   "cell_type": "markdown",
   "metadata": {},
   "source": [
    "## HMMs and Viterbi algorithm for POS tagging"
   ]
  },
  {
   "cell_type": "markdown",
   "metadata": {},
   "source": [
    "### Data Preparation"
   ]
  },
  {
   "cell_type": "code",
   "execution_count": 172,
   "metadata": {},
   "outputs": [],
   "source": [
    "#Importing libraries\n",
    "import numpy as np \n",
    "import pandas as pd\n",
    "import nltk, re\n",
    "import matplotlib.pyplot as plt\n",
    "import seaborn as sns\n",
    "import random\n",
    "from sklearn.model_selection import train_test_split\n",
    "from nltk.tokenize import sent_tokenize,word_tokenize\n",
    "from collections import Counter"
   ]
  },
  {
   "cell_type": "code",
   "execution_count": 3,
   "metadata": {},
   "outputs": [
    {
     "data": {
      "text/plain": [
       "[[('Pierre', 'NOUN'),\n",
       "  ('Vinken', 'NOUN'),\n",
       "  (',', '.'),\n",
       "  ('61', 'NUM'),\n",
       "  ('years', 'NOUN'),\n",
       "  ('old', 'ADJ'),\n",
       "  (',', '.'),\n",
       "  ('will', 'VERB'),\n",
       "  ('join', 'VERB'),\n",
       "  ('the', 'DET'),\n",
       "  ('board', 'NOUN'),\n",
       "  ('as', 'ADP'),\n",
       "  ('a', 'DET'),\n",
       "  ('nonexecutive', 'ADJ'),\n",
       "  ('director', 'NOUN'),\n",
       "  ('Nov.', 'NOUN'),\n",
       "  ('29', 'NUM'),\n",
       "  ('.', '.')],\n",
       " [('Mr.', 'NOUN'),\n",
       "  ('Vinken', 'NOUN'),\n",
       "  ('is', 'VERB'),\n",
       "  ('chairman', 'NOUN'),\n",
       "  ('of', 'ADP'),\n",
       "  ('Elsevier', 'NOUN'),\n",
       "  ('N.V.', 'NOUN'),\n",
       "  (',', '.'),\n",
       "  ('the', 'DET'),\n",
       "  ('Dutch', 'NOUN'),\n",
       "  ('publishing', 'VERB'),\n",
       "  ('group', 'NOUN'),\n",
       "  ('.', '.')],\n",
       " [('Rudolph', 'NOUN'),\n",
       "  ('Agnew', 'NOUN'),\n",
       "  (',', '.'),\n",
       "  ('55', 'NUM'),\n",
       "  ('years', 'NOUN'),\n",
       "  ('old', 'ADJ'),\n",
       "  ('and', 'CONJ'),\n",
       "  ('former', 'ADJ'),\n",
       "  ('chairman', 'NOUN'),\n",
       "  ('of', 'ADP'),\n",
       "  ('Consolidated', 'NOUN'),\n",
       "  ('Gold', 'NOUN'),\n",
       "  ('Fields', 'NOUN'),\n",
       "  ('PLC', 'NOUN'),\n",
       "  (',', '.'),\n",
       "  ('was', 'VERB'),\n",
       "  ('named', 'VERB'),\n",
       "  ('*-1', 'X'),\n",
       "  ('a', 'DET'),\n",
       "  ('nonexecutive', 'ADJ'),\n",
       "  ('director', 'NOUN'),\n",
       "  ('of', 'ADP'),\n",
       "  ('this', 'DET'),\n",
       "  ('British', 'ADJ'),\n",
       "  ('industrial', 'ADJ'),\n",
       "  ('conglomerate', 'NOUN'),\n",
       "  ('.', '.')],\n",
       " [('A', 'DET'),\n",
       "  ('form', 'NOUN'),\n",
       "  ('of', 'ADP'),\n",
       "  ('asbestos', 'NOUN'),\n",
       "  ('once', 'ADV'),\n",
       "  ('used', 'VERB'),\n",
       "  ('*', 'X'),\n",
       "  ('*', 'X'),\n",
       "  ('to', 'PRT'),\n",
       "  ('make', 'VERB'),\n",
       "  ('Kent', 'NOUN'),\n",
       "  ('cigarette', 'NOUN'),\n",
       "  ('filters', 'NOUN'),\n",
       "  ('has', 'VERB'),\n",
       "  ('caused', 'VERB'),\n",
       "  ('a', 'DET'),\n",
       "  ('high', 'ADJ'),\n",
       "  ('percentage', 'NOUN'),\n",
       "  ('of', 'ADP'),\n",
       "  ('cancer', 'NOUN'),\n",
       "  ('deaths', 'NOUN'),\n",
       "  ('among', 'ADP'),\n",
       "  ('a', 'DET'),\n",
       "  ('group', 'NOUN'),\n",
       "  ('of', 'ADP'),\n",
       "  ('workers', 'NOUN'),\n",
       "  ('exposed', 'VERB'),\n",
       "  ('*', 'X'),\n",
       "  ('to', 'PRT'),\n",
       "  ('it', 'PRON'),\n",
       "  ('more', 'ADV'),\n",
       "  ('than', 'ADP'),\n",
       "  ('30', 'NUM'),\n",
       "  ('years', 'NOUN'),\n",
       "  ('ago', 'ADP'),\n",
       "  (',', '.'),\n",
       "  ('researchers', 'NOUN'),\n",
       "  ('reported', 'VERB'),\n",
       "  ('0', 'X'),\n",
       "  ('*T*-1', 'X'),\n",
       "  ('.', '.')],\n",
       " [('The', 'DET'),\n",
       "  ('asbestos', 'NOUN'),\n",
       "  ('fiber', 'NOUN'),\n",
       "  (',', '.'),\n",
       "  ('crocidolite', 'NOUN'),\n",
       "  (',', '.'),\n",
       "  ('is', 'VERB'),\n",
       "  ('unusually', 'ADV'),\n",
       "  ('resilient', 'ADJ'),\n",
       "  ('once', 'ADP'),\n",
       "  ('it', 'PRON'),\n",
       "  ('enters', 'VERB'),\n",
       "  ('the', 'DET'),\n",
       "  ('lungs', 'NOUN'),\n",
       "  (',', '.'),\n",
       "  ('with', 'ADP'),\n",
       "  ('even', 'ADV'),\n",
       "  ('brief', 'ADJ'),\n",
       "  ('exposures', 'NOUN'),\n",
       "  ('to', 'PRT'),\n",
       "  ('it', 'PRON'),\n",
       "  ('causing', 'VERB'),\n",
       "  ('symptoms', 'NOUN'),\n",
       "  ('that', 'DET'),\n",
       "  ('*T*-1', 'X'),\n",
       "  ('show', 'VERB'),\n",
       "  ('up', 'PRT'),\n",
       "  ('decades', 'NOUN'),\n",
       "  ('later', 'ADJ'),\n",
       "  (',', '.'),\n",
       "  ('researchers', 'NOUN'),\n",
       "  ('said', 'VERB'),\n",
       "  ('0', 'X'),\n",
       "  ('*T*-2', 'X'),\n",
       "  ('.', '.')]]"
      ]
     },
     "execution_count": 3,
     "metadata": {},
     "output_type": "execute_result"
    }
   ],
   "source": [
    "# reading the Treebank tagged sentences\n",
    "nltk_data = list(nltk.corpus.treebank.tagged_sents(tagset='universal'))\n",
    "nltk_data[:5]"
   ]
  },
  {
   "cell_type": "code",
   "execution_count": 4,
   "metadata": {},
   "outputs": [
    {
     "name": "stdout",
     "output_type": "stream",
     "text": [
      "No of sentence in universal dataset 3914\n"
     ]
    }
   ],
   "source": [
    "print('No of sentence in nltk universal dataset',len(nltk_data))"
   ]
  },
  {
   "cell_type": "markdown",
   "metadata": {},
   "source": [
    "### Building the vanilla Viterbi based POS tagger"
   ]
  },
  {
   "cell_type": "code",
   "execution_count": 171,
   "metadata": {
    "scrolled": false
   },
   "outputs": [
    {
     "data": {
      "text/plain": [
       "[[('This', 'DET'),\n",
       "  ('year', 'NOUN'),\n",
       "  (',', '.'),\n",
       "  ('the', 'DET'),\n",
       "  ('average', 'NOUN'),\n",
       "  ('of', 'ADP'),\n",
       "  ('daily', 'ADJ'),\n",
       "  ('contracts', 'NOUN'),\n",
       "  ('traded', 'VERB'),\n",
       "  ('*', 'X'),\n",
       "  ('totaled', 'VERB'),\n",
       "  ('9,118', 'NUM'),\n",
       "  (',', '.'),\n",
       "  ('up', 'ADP'),\n",
       "  ('from', 'ADP'),\n",
       "  ('4,645', 'NUM'),\n",
       "  ('a', 'DET'),\n",
       "  ('year', 'NOUN'),\n",
       "  ('earlier', 'ADJ'),\n",
       "  ('and', 'CONJ'),\n",
       "  ('from', 'ADP'),\n",
       "  ('917', 'NUM'),\n",
       "  ('in', 'ADP'),\n",
       "  ('1984', 'NUM'),\n",
       "  ('.', '.')]]"
      ]
     },
     "execution_count": 171,
     "metadata": {},
     "output_type": "execute_result"
    }
   ],
   "source": [
    "#Splitting the data set into train and validation set into 95:5\n",
    "train,validation = train_test_split(nltk_data,train_size=0.95,random_state=1234)\n",
    "#Training data set\n",
    "train[:1]"
   ]
  },
  {
   "cell_type": "code",
   "execution_count": 6,
   "metadata": {
    "scrolled": true
   },
   "outputs": [
    {
     "name": "stdout",
     "output_type": "stream",
     "text": [
      "No of sentence in training data set 3718\n",
      "No of sentence in validation data set 196\n"
     ]
    }
   ],
   "source": [
    "print('No of sentence in training data set',len(train))\n",
    "print('No of sentence in validation data set',len(validation))"
   ]
  },
  {
   "cell_type": "code",
   "execution_count": 26,
   "metadata": {},
   "outputs": [
    {
     "name": "stdout",
     "output_type": "stream",
     "text": [
      "95799\n",
      "[('This', 'DET'), ('year', 'NOUN'), (',', '.'), ('the', 'DET'), ('average', 'NOUN'), ('of', 'ADP'), ('daily', 'ADJ')]\n"
     ]
    }
   ],
   "source": [
    "#List of Tagged words in training set\n",
    "word_tag = [tup for li in train for tup in li]\n",
    "print(len(word_tag))\n",
    "print(word_tag[:7])"
   ]
  },
  {
   "cell_type": "code",
   "execution_count": 27,
   "metadata": {},
   "outputs": [
    {
     "data": {
      "text/plain": [
       "['This',\n",
       " 'year',\n",
       " ',',\n",
       " 'the',\n",
       " 'average',\n",
       " 'of',\n",
       " 'daily',\n",
       " 'contracts',\n",
       " 'traded',\n",
       " '*']"
      ]
     },
     "execution_count": 27,
     "metadata": {},
     "output_type": "execute_result"
    }
   ],
   "source": [
    "#tokens\n",
    "tokens = [word[0] for word in word_tag]\n",
    "tokens[:10]"
   ]
  },
  {
   "cell_type": "code",
   "execution_count": 28,
   "metadata": {},
   "outputs": [
    {
     "data": {
      "text/plain": [
       "12073"
      ]
     },
     "execution_count": 28,
     "metadata": {},
     "output_type": "execute_result"
    }
   ],
   "source": [
    "#vocab\n",
    "vocab = list(set(tokens))\n",
    "len(vocab)\n",
    "#sorted(vocab)[-10:]"
   ]
  },
  {
   "cell_type": "code",
   "execution_count": 29,
   "metadata": {},
   "outputs": [
    {
     "name": "stdout",
     "output_type": "stream",
     "text": [
      "No of unique tags 12\n",
      "['ADP', '.', 'PRON', 'ADJ', 'X', 'CONJ', 'PRT', 'NUM', 'ADV', 'VERB', 'NOUN', 'DET']\n"
     ]
    }
   ],
   "source": [
    "#No of unique tags\n",
    "tags = [word[1] for word in word_tag]\n",
    "tags=list(set(tags))\n",
    "print('No of unique tags',len(tags))\n",
    "print(tags)"
   ]
  },
  {
   "cell_type": "markdown",
   "metadata": {},
   "source": [
    "Emission Probability"
   ]
  },
  {
   "cell_type": "code",
   "execution_count": 30,
   "metadata": {},
   "outputs": [],
   "source": [
    "def emission(word,tag,train_bag=word_tag):\n",
    "    tag_list = [tags for tags in train_bag if tags[1]==tag]\n",
    "    count_tag = len(tag_list)\n",
    "    word_with_tag = [tags for tags in tag_list if word==tags[0]]\n",
    "    count_w_with_tag = len(word_with_tag)\n",
    "    return (count_w_with_tag,count_tag)"
   ]
  },
  {
   "cell_type": "code",
   "execution_count": 31,
   "metadata": {},
   "outputs": [
    {
     "data": {
      "text/plain": [
       "(683, 8269)"
      ]
     },
     "execution_count": 31,
     "metadata": {},
     "output_type": "execute_result"
    }
   ],
   "source": [
    "emission('The','DET')"
   ]
  },
  {
   "cell_type": "markdown",
   "metadata": {},
   "source": [
    "Transition Probability "
   ]
  },
  {
   "cell_type": "code",
   "execution_count": 32,
   "metadata": {},
   "outputs": [],
   "source": [
    "def transition(tag2,tag1,train_bag=word_tag):\n",
    "    tag_list = [tags[1] for tags in train_bag]# total No of tags\n",
    "    count_t1 = len([tag for tag in tag_list if tag==tag1])# Tags from t1 to t2\n",
    "    count_t1_t2=0\n",
    "    for i in range(len(tag_list)-1):\n",
    "        if tag_list[i]==tag1 and tag_list[i+1]==tag2:\n",
    "            count_t1_t2+=1\n",
    "    return (count_t1_t2,count_t1)"
   ]
  },
  {
   "cell_type": "code",
   "execution_count": 33,
   "metadata": {},
   "outputs": [
    {
     "data": {
      "text/plain": [
       "(1928, 11130)"
      ]
     },
     "execution_count": 33,
     "metadata": {},
     "output_type": "execute_result"
    }
   ],
   "source": [
    "transition('DET','.')"
   ]
  },
  {
   "cell_type": "code",
   "execution_count": 34,
   "metadata": {},
   "outputs": [
    {
     "data": {
      "text/plain": [
       "array([[0., 0., 0., 0., 0., 0., 0., 0., 0., 0., 0., 0.],\n",
       "       [0., 0., 0., 0., 0., 0., 0., 0., 0., 0., 0., 0.],\n",
       "       [0., 0., 0., 0., 0., 0., 0., 0., 0., 0., 0., 0.],\n",
       "       [0., 0., 0., 0., 0., 0., 0., 0., 0., 0., 0., 0.],\n",
       "       [0., 0., 0., 0., 0., 0., 0., 0., 0., 0., 0., 0.],\n",
       "       [0., 0., 0., 0., 0., 0., 0., 0., 0., 0., 0., 0.],\n",
       "       [0., 0., 0., 0., 0., 0., 0., 0., 0., 0., 0., 0.],\n",
       "       [0., 0., 0., 0., 0., 0., 0., 0., 0., 0., 0., 0.],\n",
       "       [0., 0., 0., 0., 0., 0., 0., 0., 0., 0., 0., 0.],\n",
       "       [0., 0., 0., 0., 0., 0., 0., 0., 0., 0., 0., 0.],\n",
       "       [0., 0., 0., 0., 0., 0., 0., 0., 0., 0., 0., 0.],\n",
       "       [0., 0., 0., 0., 0., 0., 0., 0., 0., 0., 0., 0.]])"
      ]
     },
     "execution_count": 34,
     "metadata": {},
     "output_type": "execute_result"
    }
   ],
   "source": [
    "#Creating the size of transition matrix\n",
    "trans_matrix=np.zeros([len(tags),len(tags)],dtype=float)\n",
    "trans_matrix"
   ]
  },
  {
   "cell_type": "code",
   "execution_count": 45,
   "metadata": {},
   "outputs": [
    {
     "data": {
      "text/plain": [
       "array([[1.65121977e-02, 3.98423351e-02, 7.02034729e-02, 1.05784596e-01,\n",
       "        3.50484713e-02, 9.58772771e-04, 1.49142431e-03, 6.20006392e-02,\n",
       "        1.38489400e-02, 8.52242463e-03, 3.22893363e-01, 3.22893363e-01],\n",
       "       [9.03863432e-02, 9.40700809e-02, 6.57681941e-02, 4.46540881e-02,\n",
       "        2.73135669e-02, 5.77717880e-02, 2.33602875e-03, 8.05929919e-02,\n",
       "        5.19317161e-02, 8.87690925e-02, 2.23090746e-01, 1.73225517e-01],\n",
       "       [2.32913326e-02, 4.04734632e-02, 7.63650248e-03, 7.36922489e-02,\n",
       "        9.39289805e-02, 4.58190149e-03, 1.18365788e-02, 7.25467736e-03,\n",
       "        3.28369607e-02, 4.87972509e-01, 2.07331042e-01, 9.16380298e-03],\n",
       "       [7.75193798e-02, 6.58090054e-02, 6.59739403e-04, 6.53142009e-02,\n",
       "        2.14415306e-02, 1.66584199e-02, 1.08857001e-02, 2.11116609e-02,\n",
       "        4.94804552e-03, 1.22051790e-02, 6.98499093e-01, 4.94804552e-03],\n",
       "       [1.44936709e-01, 1.62816456e-01, 5.63291139e-02, 1.64556962e-02,\n",
       "        7.48417722e-02, 1.07594937e-02, 1.84651899e-01, 2.68987342e-03,\n",
       "        2.61075949e-02, 2.04113924e-01, 6.21835443e-02, 5.41139241e-02],\n",
       "       [5.27052239e-02, 3.31156716e-02, 5.73694030e-02, 1.18936567e-01,\n",
       "        8.86194030e-03, 4.66417910e-04, 5.13059701e-03, 4.15111940e-02,\n",
       "        5.59701493e-02, 1.58582090e-01, 3.48880597e-01, 1.18470149e-01],\n",
       "       [2.11726384e-02, 4.16938111e-02, 1.79153094e-02, 8.40390879e-02,\n",
       "        1.40065147e-02, 2.28013029e-03, 1.95439739e-03, 5.66775244e-02,\n",
       "        9.77198697e-03, 4.02931596e-01, 2.47882736e-01, 9.96742671e-02],\n",
       "       [3.56718193e-02, 1.15933413e-01, 1.48632580e-03, 3.24019025e-02,\n",
       "        2.10463734e-01, 1.33769322e-02, 2.70511296e-02, 1.84898930e-01,\n",
       "        2.97265161e-03, 1.81331748e-02, 3.54637337e-01, 2.97265161e-03],\n",
       "       [1.18610747e-01, 1.34665793e-01, 1.53997379e-02, 1.29750983e-01,\n",
       "        2.32634338e-02, 6.88073394e-03, 1.47444299e-02, 3.14547837e-02,\n",
       "        8.12581913e-02, 3.44364351e-01, 3.11271298e-02, 6.84796855e-02],\n",
       "       [9.14020139e-02, 3.51665376e-02, 3.53214562e-02, 6.52207591e-02,\n",
       "        2.17815647e-01, 5.57707204e-03, 3.12161115e-02, 2.26955848e-02,\n",
       "        8.35011619e-02, 1.67621998e-01, 1.10844307e-01, 1.33617351e-01],\n",
       "       [1.77023042e-01, 2.39306905e-01, 4.76866514e-03, 1.22310800e-02,\n",
       "        2.92308252e-02, 4.22627498e-02, 4.39736449e-02, 9.53733028e-03,\n",
       "        1.71817553e-02, 1.46336136e-01, 2.64897528e-01, 1.32503367e-02],\n",
       "       [9.19095417e-03, 1.77772403e-02, 3.74894183e-03, 2.03652195e-01,\n",
       "        4.61966380e-02, 4.83734430e-04, 2.41867215e-04, 2.23727174e-02,\n",
       "        1.26980288e-02, 3.95452896e-02, 6.38650381e-01, 5.44201234e-03]])"
      ]
     },
     "execution_count": 45,
     "metadata": {},
     "output_type": "execute_result"
    }
   ],
   "source": [
    "#calculating the values for transition matrix\n",
    "for i in range(len(tags)):\n",
    "    for j in range(len(tags)):\n",
    "        trans_matrix[i][j] = transition(tags[j],tags[i])[0]/transition(tags[j],tags[i])[1]\n",
    "trans_matrix"
   ]
  },
  {
   "cell_type": "code",
   "execution_count": 46,
   "metadata": {},
   "outputs": [
    {
     "data": {
      "text/html": [
       "<div>\n",
       "<style scoped>\n",
       "    .dataframe tbody tr th:only-of-type {\n",
       "        vertical-align: middle;\n",
       "    }\n",
       "\n",
       "    .dataframe tbody tr th {\n",
       "        vertical-align: top;\n",
       "    }\n",
       "\n",
       "    .dataframe thead th {\n",
       "        text-align: right;\n",
       "    }\n",
       "</style>\n",
       "<table border=\"1\" class=\"dataframe\">\n",
       "  <thead>\n",
       "    <tr style=\"text-align: right;\">\n",
       "      <th></th>\n",
       "      <th>ADP</th>\n",
       "      <th>.</th>\n",
       "      <th>PRON</th>\n",
       "      <th>ADJ</th>\n",
       "      <th>X</th>\n",
       "      <th>CONJ</th>\n",
       "      <th>PRT</th>\n",
       "      <th>NUM</th>\n",
       "      <th>ADV</th>\n",
       "      <th>VERB</th>\n",
       "      <th>NOUN</th>\n",
       "      <th>DET</th>\n",
       "    </tr>\n",
       "  </thead>\n",
       "  <tbody>\n",
       "    <tr>\n",
       "      <th>ADP</th>\n",
       "      <td>0.016512</td>\n",
       "      <td>0.039842</td>\n",
       "      <td>0.070203</td>\n",
       "      <td>0.105785</td>\n",
       "      <td>0.035048</td>\n",
       "      <td>0.000959</td>\n",
       "      <td>0.001491</td>\n",
       "      <td>0.062001</td>\n",
       "      <td>0.013849</td>\n",
       "      <td>0.008522</td>\n",
       "      <td>0.322893</td>\n",
       "      <td>0.322893</td>\n",
       "    </tr>\n",
       "    <tr>\n",
       "      <th>.</th>\n",
       "      <td>0.090386</td>\n",
       "      <td>0.094070</td>\n",
       "      <td>0.065768</td>\n",
       "      <td>0.044654</td>\n",
       "      <td>0.027314</td>\n",
       "      <td>0.057772</td>\n",
       "      <td>0.002336</td>\n",
       "      <td>0.080593</td>\n",
       "      <td>0.051932</td>\n",
       "      <td>0.088769</td>\n",
       "      <td>0.223091</td>\n",
       "      <td>0.173226</td>\n",
       "    </tr>\n",
       "    <tr>\n",
       "      <th>PRON</th>\n",
       "      <td>0.023291</td>\n",
       "      <td>0.040473</td>\n",
       "      <td>0.007637</td>\n",
       "      <td>0.073692</td>\n",
       "      <td>0.093929</td>\n",
       "      <td>0.004582</td>\n",
       "      <td>0.011837</td>\n",
       "      <td>0.007255</td>\n",
       "      <td>0.032837</td>\n",
       "      <td>0.487973</td>\n",
       "      <td>0.207331</td>\n",
       "      <td>0.009164</td>\n",
       "    </tr>\n",
       "    <tr>\n",
       "      <th>ADJ</th>\n",
       "      <td>0.077519</td>\n",
       "      <td>0.065809</td>\n",
       "      <td>0.000660</td>\n",
       "      <td>0.065314</td>\n",
       "      <td>0.021442</td>\n",
       "      <td>0.016658</td>\n",
       "      <td>0.010886</td>\n",
       "      <td>0.021112</td>\n",
       "      <td>0.004948</td>\n",
       "      <td>0.012205</td>\n",
       "      <td>0.698499</td>\n",
       "      <td>0.004948</td>\n",
       "    </tr>\n",
       "    <tr>\n",
       "      <th>X</th>\n",
       "      <td>0.144937</td>\n",
       "      <td>0.162816</td>\n",
       "      <td>0.056329</td>\n",
       "      <td>0.016456</td>\n",
       "      <td>0.074842</td>\n",
       "      <td>0.010759</td>\n",
       "      <td>0.184652</td>\n",
       "      <td>0.002690</td>\n",
       "      <td>0.026108</td>\n",
       "      <td>0.204114</td>\n",
       "      <td>0.062184</td>\n",
       "      <td>0.054114</td>\n",
       "    </tr>\n",
       "    <tr>\n",
       "      <th>CONJ</th>\n",
       "      <td>0.052705</td>\n",
       "      <td>0.033116</td>\n",
       "      <td>0.057369</td>\n",
       "      <td>0.118937</td>\n",
       "      <td>0.008862</td>\n",
       "      <td>0.000466</td>\n",
       "      <td>0.005131</td>\n",
       "      <td>0.041511</td>\n",
       "      <td>0.055970</td>\n",
       "      <td>0.158582</td>\n",
       "      <td>0.348881</td>\n",
       "      <td>0.118470</td>\n",
       "    </tr>\n",
       "    <tr>\n",
       "      <th>PRT</th>\n",
       "      <td>0.021173</td>\n",
       "      <td>0.041694</td>\n",
       "      <td>0.017915</td>\n",
       "      <td>0.084039</td>\n",
       "      <td>0.014007</td>\n",
       "      <td>0.002280</td>\n",
       "      <td>0.001954</td>\n",
       "      <td>0.056678</td>\n",
       "      <td>0.009772</td>\n",
       "      <td>0.402932</td>\n",
       "      <td>0.247883</td>\n",
       "      <td>0.099674</td>\n",
       "    </tr>\n",
       "    <tr>\n",
       "      <th>NUM</th>\n",
       "      <td>0.035672</td>\n",
       "      <td>0.115933</td>\n",
       "      <td>0.001486</td>\n",
       "      <td>0.032402</td>\n",
       "      <td>0.210464</td>\n",
       "      <td>0.013377</td>\n",
       "      <td>0.027051</td>\n",
       "      <td>0.184899</td>\n",
       "      <td>0.002973</td>\n",
       "      <td>0.018133</td>\n",
       "      <td>0.354637</td>\n",
       "      <td>0.002973</td>\n",
       "    </tr>\n",
       "    <tr>\n",
       "      <th>ADV</th>\n",
       "      <td>0.118611</td>\n",
       "      <td>0.134666</td>\n",
       "      <td>0.015400</td>\n",
       "      <td>0.129751</td>\n",
       "      <td>0.023263</td>\n",
       "      <td>0.006881</td>\n",
       "      <td>0.014744</td>\n",
       "      <td>0.031455</td>\n",
       "      <td>0.081258</td>\n",
       "      <td>0.344364</td>\n",
       "      <td>0.031127</td>\n",
       "      <td>0.068480</td>\n",
       "    </tr>\n",
       "    <tr>\n",
       "      <th>VERB</th>\n",
       "      <td>0.091402</td>\n",
       "      <td>0.035167</td>\n",
       "      <td>0.035321</td>\n",
       "      <td>0.065221</td>\n",
       "      <td>0.217816</td>\n",
       "      <td>0.005577</td>\n",
       "      <td>0.031216</td>\n",
       "      <td>0.022696</td>\n",
       "      <td>0.083501</td>\n",
       "      <td>0.167622</td>\n",
       "      <td>0.110844</td>\n",
       "      <td>0.133617</td>\n",
       "    </tr>\n",
       "    <tr>\n",
       "      <th>NOUN</th>\n",
       "      <td>0.177023</td>\n",
       "      <td>0.239307</td>\n",
       "      <td>0.004769</td>\n",
       "      <td>0.012231</td>\n",
       "      <td>0.029231</td>\n",
       "      <td>0.042263</td>\n",
       "      <td>0.043974</td>\n",
       "      <td>0.009537</td>\n",
       "      <td>0.017182</td>\n",
       "      <td>0.146336</td>\n",
       "      <td>0.264898</td>\n",
       "      <td>0.013250</td>\n",
       "    </tr>\n",
       "    <tr>\n",
       "      <th>DET</th>\n",
       "      <td>0.009191</td>\n",
       "      <td>0.017777</td>\n",
       "      <td>0.003749</td>\n",
       "      <td>0.203652</td>\n",
       "      <td>0.046197</td>\n",
       "      <td>0.000484</td>\n",
       "      <td>0.000242</td>\n",
       "      <td>0.022373</td>\n",
       "      <td>0.012698</td>\n",
       "      <td>0.039545</td>\n",
       "      <td>0.638650</td>\n",
       "      <td>0.005442</td>\n",
       "    </tr>\n",
       "  </tbody>\n",
       "</table>\n",
       "</div>"
      ],
      "text/plain": [
       "           ADP         .      PRON       ADJ         X      CONJ       PRT  \\\n",
       "ADP   0.016512  0.039842  0.070203  0.105785  0.035048  0.000959  0.001491   \n",
       ".     0.090386  0.094070  0.065768  0.044654  0.027314  0.057772  0.002336   \n",
       "PRON  0.023291  0.040473  0.007637  0.073692  0.093929  0.004582  0.011837   \n",
       "ADJ   0.077519  0.065809  0.000660  0.065314  0.021442  0.016658  0.010886   \n",
       "X     0.144937  0.162816  0.056329  0.016456  0.074842  0.010759  0.184652   \n",
       "CONJ  0.052705  0.033116  0.057369  0.118937  0.008862  0.000466  0.005131   \n",
       "PRT   0.021173  0.041694  0.017915  0.084039  0.014007  0.002280  0.001954   \n",
       "NUM   0.035672  0.115933  0.001486  0.032402  0.210464  0.013377  0.027051   \n",
       "ADV   0.118611  0.134666  0.015400  0.129751  0.023263  0.006881  0.014744   \n",
       "VERB  0.091402  0.035167  0.035321  0.065221  0.217816  0.005577  0.031216   \n",
       "NOUN  0.177023  0.239307  0.004769  0.012231  0.029231  0.042263  0.043974   \n",
       "DET   0.009191  0.017777  0.003749  0.203652  0.046197  0.000484  0.000242   \n",
       "\n",
       "           NUM       ADV      VERB      NOUN       DET  \n",
       "ADP   0.062001  0.013849  0.008522  0.322893  0.322893  \n",
       ".     0.080593  0.051932  0.088769  0.223091  0.173226  \n",
       "PRON  0.007255  0.032837  0.487973  0.207331  0.009164  \n",
       "ADJ   0.021112  0.004948  0.012205  0.698499  0.004948  \n",
       "X     0.002690  0.026108  0.204114  0.062184  0.054114  \n",
       "CONJ  0.041511  0.055970  0.158582  0.348881  0.118470  \n",
       "PRT   0.056678  0.009772  0.402932  0.247883  0.099674  \n",
       "NUM   0.184899  0.002973  0.018133  0.354637  0.002973  \n",
       "ADV   0.031455  0.081258  0.344364  0.031127  0.068480  \n",
       "VERB  0.022696  0.083501  0.167622  0.110844  0.133617  \n",
       "NOUN  0.009537  0.017182  0.146336  0.264898  0.013250  \n",
       "DET   0.022373  0.012698  0.039545  0.638650  0.005442  "
      ]
     },
     "execution_count": 46,
     "metadata": {},
     "output_type": "execute_result"
    }
   ],
   "source": [
    "#Maling dataframe of transition matrix\n",
    "tags_df = pd.DataFrame(trans_matrix,columns=tags,index=tags)\n",
    "tags_df"
   ]
  },
  {
   "cell_type": "code",
   "execution_count": 57,
   "metadata": {},
   "outputs": [
    {
     "data": {
      "text/plain": [
       "0.6386503809408635"
      ]
     },
     "execution_count": 57,
     "metadata": {},
     "output_type": "execute_result"
    }
   ],
   "source": [
    "tags_df.loc['DET','NOUN']"
   ]
  },
  {
   "cell_type": "code",
   "execution_count": 48,
   "metadata": {},
   "outputs": [
    {
     "data": {
      "text/plain": [
       "<matplotlib.axes._subplots.AxesSubplot at 0x1d1c015c888>"
      ]
     },
     "execution_count": 48,
     "metadata": {},
     "output_type": "execute_result"
    },
    {
     "data": {
      "image/png": "[encoded data removed]",
      "text/plain": [
       "<Figure size 720x360 with 2 Axes>"
      ]
     },
     "metadata": {
      "needs_background": "light"
     },
     "output_type": "display_data"
    }
   ],
   "source": [
    "plt.figure(figsize=[10,5])\n",
    "sns.heatmap(tags_df,annot=True)"
   ]
  },
  {
   "cell_type": "code",
   "execution_count": 49,
   "metadata": {},
   "outputs": [
    {
     "data": {
      "text/plain": [
       "<matplotlib.axes._subplots.AxesSubplot at 0x1d1c1da7708>"
      ]
     },
     "execution_count": 49,
     "metadata": {},
     "output_type": "execute_result"
    },
    {
     "data": {
      "image/png": "[encoded data removed]",
      "text/plain": [
       "<Figure size 720x360 with 2 Axes>"
      ]
     },
     "metadata": {
      "needs_background": "light"
     },
     "output_type": "display_data"
    }
   ],
   "source": [
    "plt.figure(figsize=[10,5])\n",
    "sns.heatmap(tags_df[tags_df>0.5],annot=True)"
   ]
  },
  {
   "cell_type": "markdown",
   "metadata": {},
   "source": [
    "Probability of transition to NOUN from a determinant and adjective is high which is a general observation"
   ]
  },
  {
   "cell_type": "markdown",
   "metadata": {},
   "source": [
    "Viterbi algorithm:"
   ]
  },
  {
   "cell_type": "code",
   "execution_count": 98,
   "metadata": {},
   "outputs": [],
   "source": [
    "def viterbi(words,train_bag=word_tag):\n",
    "    tags=list(set([pair[1] for pair in word_tag]))\n",
    "    state=[]\n",
    "    for key,word in enumerate(words):\n",
    "        prob = []\n",
    "        for t in tags:\n",
    "            if key==0:\n",
    "                trans_p = tags_df.loc['.',t]\n",
    "            else:\n",
    "                trans_p = tags_df.loc[state[-1],t]\n",
    "            emit_p = emission(word,t)[0]/emission(word,t)[1]\n",
    "            state_p = trans_p*emit_p\n",
    "            prob.append(state_p)\n",
    "        state.append(tags[prob.index(max(prob))])\n",
    "    return list(zip(words,state))"
   ]
  },
  {
   "cell_type": "markdown",
   "metadata": {},
   "source": [
    "Validation set "
   ]
  },
  {
   "cell_type": "code",
   "execution_count": 101,
   "metadata": {},
   "outputs": [
    {
     "data": {
      "text/plain": [
       "[('Ruth', 'NOUN'),\n",
       " ('K.', 'NOUN'),\n",
       " ('Nelson', 'NOUN'),\n",
       " ('Cullowhee', 'NOUN'),\n",
       " (',', '.'),\n",
       " ('N.C', 'NOUN'),\n",
       " ('.', '.'),\n",
       " ('Among', 'ADP'),\n",
       " ('other', 'ADJ'),\n",
       " ('Connecticut', 'NOUN')]"
      ]
     },
     "execution_count": 101,
     "metadata": {},
     "output_type": "execute_result"
    }
   ],
   "source": [
    "#Pair of word and tags in the validation set\n",
    "validation_word_tag = [word for sentence in validation for word in sentence]\n",
    "validation_word_tag[:10]"
   ]
  },
  {
   "cell_type": "code",
   "execution_count": 102,
   "metadata": {},
   "outputs": [
    {
     "data": {
      "text/plain": [
       "['Ruth', 'K.', 'Nelson', 'Cullowhee', ',', 'N.C']"
      ]
     },
     "execution_count": 102,
     "metadata": {},
     "output_type": "execute_result"
    }
   ],
   "source": [
    "#Words in the validation tag\n",
    "validation_words= [word[0] for word in validation_word_tag]\n",
    "validation_words[:6]"
   ]
  },
  {
   "cell_type": "code",
   "execution_count": 103,
   "metadata": {},
   "outputs": [
    {
     "data": {
      "text/plain": [
       "[('Ruth', 'ADP'),\n",
       " ('K.', 'NOUN'),\n",
       " ('Nelson', 'NOUN'),\n",
       " ('Cullowhee', 'ADP'),\n",
       " (',', '.'),\n",
       " ('N.C', 'NOUN'),\n",
       " ('.', '.'),\n",
       " ('Among', 'ADP'),\n",
       " ('other', 'ADJ'),\n",
       " ('Connecticut', 'NOUN')]"
      ]
     },
     "execution_count": 103,
     "metadata": {},
     "output_type": "execute_result"
    }
   ],
   "source": [
    "test_sequence1=viterbi(validation_words)\n",
    "test_sequence1[:10]"
   ]
  },
  {
   "cell_type": "markdown",
   "metadata": {},
   "source": [
    "It can be observed that unknown words are tagged by ADP which is affecting the accuracy "
   ]
  },
  {
   "cell_type": "code",
   "execution_count": 209,
   "metadata": {},
   "outputs": [
    {
     "data": {
      "text/plain": [
       "4423"
      ]
     },
     "execution_count": 209,
     "metadata": {},
     "output_type": "execute_result"
    }
   ],
   "source": [
    "correct=[j for i,j in zip(validation_word_tag,test_sequence1) if i==j]#correctly tagged words\n",
    "len(correct)"
   ]
  },
  {
   "cell_type": "code",
   "execution_count": 210,
   "metadata": {},
   "outputs": [
    {
     "data": {
      "text/plain": [
       "0.906909985646914"
      ]
     },
     "execution_count": 210,
     "metadata": {},
     "output_type": "execute_result"
    }
   ],
   "source": [
    "accuracy_viterbi=len(correct)/len(validation_word_tag)#accuracy of vanilla viterbi\n",
    "accuracy_viterbi"
   ]
  },
  {
   "cell_type": "code",
   "execution_count": 168,
   "metadata": {},
   "outputs": [
    {
     "data": {
      "text/plain": [
       "[('Ruth', 'NOUN'),\n",
       " ('Cullowhee', 'NOUN'),\n",
       " ('*T*-121', 'X'),\n",
       " ('trade', 'VERB'),\n",
       " ('Card', 'NOUN'),\n",
       " ('sweepstakes', 'NOUN'),\n",
       " ('R.D.', 'NOUN'),\n",
       " ('Vos', 'NOUN'),\n",
       " ('N.Y', 'NOUN'),\n",
       " ('Perch', 'NOUN')]"
      ]
     },
     "execution_count": 168,
     "metadata": {},
     "output_type": "execute_result"
    }
   ],
   "source": [
    "#Incorrect tagged words by vanilla viterbi\n",
    "incorrect_tagged_1 = [i[1] for i in zip(test_sequence1, validation_word_tag) if i[0]!=i[1]]\n",
    "incorrect_tagged_1[:10]"
   ]
  },
  {
   "cell_type": "markdown",
   "metadata": {},
   "source": [
    "### Solution to the problem of unknown words"
   ]
  },
  {
   "cell_type": "markdown",
   "metadata": {},
   "source": [
    "Solution 1:Rule based approach"
   ]
  },
  {
   "cell_type": "code",
   "execution_count": 205,
   "metadata": {},
   "outputs": [],
   "source": [
    "def viterbi_mod1(words, train_bag = word_tag):\n",
    "    state = []\n",
    "    T = list(set([pair[1] for pair in train_bag]))\n",
    "    W = list(set([pair[0] for pair in train_bag]))\n",
    "    #Finding most occuring tags\n",
    "    Tags = list([pair[1] for pair in train_bag])\n",
    "    tag_counts = Counter(Tags)\n",
    "    most_freq=tag_counts.most_common(1)[0][0]\n",
    "    new_words=[]\n",
    "    for key, word in enumerate(words):\n",
    "        if word in W:\n",
    "            #initialise list of probability column for a given observation\n",
    "            prob = []\n",
    "            for t in tags:\n",
    "                if key==0:\n",
    "                    trans_p = tags_df.loc['.', t]\n",
    "                else:\n",
    "                    trans_p = tags_df.loc[state[-1], t]\n",
    "                emit_p = emission(word,t)[0]/emission(word,t)[1]\n",
    "                state_p = trans_p*emit_p\n",
    "                prob.append(state_p)\n",
    "            state.append(tags[prob.index(max(prob))])\n",
    "        #Rules for tagging word not in training corpus\n",
    "        else:#Rules for tagging word not in training corpus\n",
    "            if (word[-3:]=='ing') | (word[-2:]=='ed'):#Generally verb ends with ing and ed\n",
    "                state.append('VERB')\n",
    "                new_words.append([word,'VERB'])\n",
    "            elif word[0].isupper():\n",
    "                state.append('NOUN')\n",
    "                new_words.append([word,'NOUN'])\n",
    "            elif(re.match('\\d+\\.?\\d*',word)):\n",
    "                state.append('NUM')\n",
    "                new_words.append([word,'NUM'])\n",
    "            else:\n",
    "                state.append(most_freq)\n",
    "                new_words.append([word,most_freq])\n",
    "    print('No of unknown words tagged using modification 1 : ',len(new_words),\n",
    "          '\\nSome of tagged words which were not in the training corpus by the modified algorithm 1:\\n',new_words[:5])\n",
    "    return list(zip(words, state))\n"
   ]
  },
  {
   "cell_type": "code",
   "execution_count": 108,
   "metadata": {},
   "outputs": [
    {
     "name": "stdout",
     "output_type": "stream",
     "text": [
      "No of unknown words tagged :  341 \n",
      "Some of tagged words which were not in the training corpus by the modified algorithm 1:\n",
      " [['Ruth', 'NOUN'], ['Cullowhee', 'NOUN'], ['*T*-121', 'NOUN'], ['Card', 'NOUN'], ['sweepstakes', 'NOUN']]\n"
     ]
    }
   ],
   "source": [
    "test_sequence2=viterbi_mod1(validation_words)"
   ]
  },
  {
   "cell_type": "code",
   "execution_count": 109,
   "metadata": {},
   "outputs": [
    {
     "data": {
      "text/plain": [
       "0.9509944638097191"
      ]
     },
     "execution_count": 109,
     "metadata": {},
     "output_type": "execute_result"
    }
   ],
   "source": [
    "correct=[j for i,j in zip(validation_word_tag,test_sequence2) if i==j]\n",
    "accuracy_viterbi_mod1=len(correct)/len(validation_word_tag)\n",
    "accuracy_viterbi_mod1#accuracy"
   ]
  },
  {
   "cell_type": "code",
   "execution_count": 169,
   "metadata": {},
   "outputs": [
    {
     "data": {
      "text/plain": [
       "[('*T*-121', 'X'),\n",
       " ('trade', 'VERB'),\n",
       " ('early', 'ADJ'),\n",
       " ('disembodied', 'ADJ'),\n",
       " ('male', 'NOUN'),\n",
       " ('Otherwise', 'ADV'),\n",
       " ('300-day', 'ADJ'),\n",
       " ('bell-ringing', 'ADJ'),\n",
       " ('male-only', 'ADJ'),\n",
       " ('that', 'DET')]"
      ]
     },
     "execution_count": 169,
     "metadata": {},
     "output_type": "execute_result"
    }
   ],
   "source": [
    "#Incorrect tagging by modification 1\n",
    "incorrect_tagged_2 = [i[1] for i in zip(test_sequence2, validation_word_tag) if i[0]!=i[1]]\n",
    "incorrect_tagged_2[:10]"
   ]
  },
  {
   "cell_type": "markdown",
   "metadata": {},
   "source": [
    "Solution 2 : Probability based approach"
   ]
  },
  {
   "cell_type": "code",
   "execution_count": 211,
   "metadata": {},
   "outputs": [],
   "source": [
    "def viterbi_mod2(words, train_bag = word_tag):\n",
    "    state = []\n",
    "    T = list(set([pair[1] for pair in train_bag]))\n",
    "    W = list(set([pair[0] for pair in train_bag]))\n",
    "    \n",
    "    new_words=[]\n",
    "    for key, word in enumerate(words):\n",
    "        if word in W:\n",
    "            #initialise list of probability column for a given observation\n",
    "            prob = []\n",
    "            for t in tags:\n",
    "                if key==0:\n",
    "                    trans_p = tags_df.loc['.', t]\n",
    "                else:\n",
    "                    trans_p = tags_df.loc[state[-1], t]\n",
    "                emit_p = emission(word,t)[0]/emission(word,t)[1]\n",
    "                state_p = trans_p*emit_p\n",
    "                prob.append(state_p)\n",
    "            state.append(tags[prob.index(max(prob))])\n",
    "        #Modifying viterbi by removing the emission probability for the case of missing words\n",
    "        #Emission prob will be 0 for missing word therefore only transition probability is used\n",
    "        else:\n",
    "            prob = []\n",
    "            for t in tags:\n",
    "                if key==0:\n",
    "                    trans_p = tags_df.loc['.', t]\n",
    "                else:\n",
    "                    trans_p = tags_df.loc[state[-1], t]\n",
    "                state_p = trans_p\n",
    "                prob.append(state_p)\n",
    "            state.append(tags[prob.index(max(prob))])\n",
    "            new_words.append([word,tags[prob.index(max(prob))]])\n",
    "            \n",
    "    print('No of unknown words tagged using modification 2 : ',len(new_words),\n",
    "          '\\nSome of tagged words which were not in the training corpus by the modified algorithm 2:\\n',new_words[:5])\n",
    "    return list(zip(words, state))\n"
   ]
  },
  {
   "cell_type": "code",
   "execution_count": 131,
   "metadata": {},
   "outputs": [
    {
     "name": "stdout",
     "output_type": "stream",
     "text": [
      "No of unknown words tagged :  341 \n",
      "Some of tagged words which were not in the training corpus by the modified algorithm 2:\n",
      " [['Ruth', 'NOUN'], ['Cullowhee', 'NOUN'], ['*T*-121', 'NOUN'], ['Card', 'NOUN'], ['sweepstakes', 'NOUN']]\n"
     ]
    }
   ],
   "source": [
    "test_sequence3=viterbi_mod2(validation_words)"
   ]
  },
  {
   "cell_type": "code",
   "execution_count": 132,
   "metadata": {},
   "outputs": [
    {
     "data": {
      "text/plain": [
       "0.9384867746565512"
      ]
     },
     "execution_count": 132,
     "metadata": {},
     "output_type": "execute_result"
    }
   ],
   "source": [
    "correct=[j for i,j in zip(validation_word_tag,test_sequence3) if i==j]\n",
    "accuracy_viterbi_mod2=len(correct)/len(validation_word_tag)\n",
    "accuracy_viterbi_mod2#accuracy"
   ]
  },
  {
   "cell_type": "code",
   "execution_count": 170,
   "metadata": {},
   "outputs": [
    {
     "data": {
      "text/plain": [
       "[('*T*-121', 'X'),\n",
       " ('trade', 'VERB'),\n",
       " ('early', 'ADJ'),\n",
       " ('refunded', 'VERB'),\n",
       " ('disembodied', 'ADJ'),\n",
       " ('Otherwise', 'ADV'),\n",
       " ('300-day', 'ADJ'),\n",
       " ('bell-ringing', 'ADJ'),\n",
       " ('1637', 'NUM'),\n",
       " ('male-only', 'ADJ')]"
      ]
     },
     "execution_count": 170,
     "metadata": {},
     "output_type": "execute_result"
    }
   ],
   "source": [
    "#Incorrect tagging by modification 2\n",
    "incorrect_tagged_3 = [i[1] for i in zip(test_sequence3, validation_word_tag) if i[0]!=i[1]]\n",
    "incorrect_tagged_3[:10]"
   ]
  },
  {
   "cell_type": "markdown",
   "metadata": {},
   "source": [
    "### Comparing the tagging accuracies of the modifications with the vanilla Viterbi algorithm"
   ]
  },
  {
   "cell_type": "code",
   "execution_count": 134,
   "metadata": {},
   "outputs": [
    {
     "name": "stdout",
     "output_type": "stream",
     "text": [
      "Accuracy of vanilla viterbi algorithm is :  90.69 %\n",
      "Accuracy of Modified vanilla viterbi Rule based algorithm is :  95.1 %\n",
      "Accuracy of Modified vanilla viterbi Probability basedalgorithm is :  93.85 %\n"
     ]
    }
   ],
   "source": [
    "print('Accuracy of vanilla viterbi algorithm is : ',round(accuracy_viterbi*100,2),'%')\n",
    "print('Accuracy of Modified vanilla viterbi Rule based algorithm is : ',round(accuracy_viterbi_mod1*100,2),'%')\n",
    "print('Accuracy of Modified vanilla viterbi Probability basedalgorithm is : ',round(accuracy_viterbi_mod2*100,2),'%')"
   ]
  },
  {
   "cell_type": "markdown",
   "metadata": {},
   "source": [
    "#### Overall the rule based approach gives a better accuracy "
   ]
  },
  {
   "cell_type": "markdown",
   "metadata": {},
   "source": [
    "### Cases which were incorrectly tagged by original POS tagger and got corrected by modifications"
   ]
  },
  {
   "cell_type": "code",
   "execution_count": 160,
   "metadata": {},
   "outputs": [],
   "source": [
    "corrected_by_mod1=[word for word in incorrect_tagged_1 if word not in incorrect_tagged_2]#Rule based approach\n",
    "corrected_by_mod2=[word for word in incorrect_tagged_1 if word not in incorrect_tagged_3]#Probability based approach"
   ]
  },
  {
   "cell_type": "code",
   "execution_count": 165,
   "metadata": {},
   "outputs": [
    {
     "name": "stdout",
     "output_type": "stream",
     "text": [
      "No of words in validation set corrected using the rule based approach 215 \n",
      "Some of the words are: [('Ruth', 'NOUN'), ('Cullowhee', 'NOUN'), ('Card', 'NOUN'), ('sweepstakes', 'NOUN'), ('R.D.', 'NOUN'), ('Vos', 'NOUN'), ('N.Y', 'NOUN'), ('Perch', 'NOUN'), ('Dolphin', 'NOUN'), ('Seahorse', 'NOUN'), ('Tarwhine', 'NOUN'), ('refunded', 'VERB'), ('fattened', 'VERB'), ('Ancient', 'NOUN'), ('Youths', 'NOUN'), ('1637', 'NUM'), ('Cathedral', 'NOUN'), ('Westminster', 'NOUN'), ('Abbey', 'NOUN'), ('Kerensky', 'NOUN'), ('Communists', 'NOUN'), ('seized', 'VERB'), ('1917', 'NUM'), ('mania', 'NOUN'), ('knight', 'NOUN'), ('flightiness', 'NOUN'), ('pealing', 'VERB'), ('standpoint', 'NOUN'), ('crapshoot', 'NOUN'), ('breakfast', 'NOUN'), ('drinks', 'NOUN'), ('Different', 'NOUN'), ('spin-off', 'NOUN'), ('redeeming', 'VERB'), ('presentation', 'NOUN'), ('signature', 'NOUN'), ('aids', 'NOUN'), ('reaping', 'VERB'), ('windfall', 'NOUN'), ('carriers', 'NOUN'), ('Gunmen', 'NOUN'), ('Lebanon', 'NOUN'), ('assassinated', 'VERB'), ('Arabian', 'NOUN'), ('Islamic', 'NOUN'), ('terrorists', 'NOUN'), ('Riyadh', 'NOUN'), ('bags', 'NOUN'), ('GOODY', 'NOUN'), ('PRODUCTS', 'NOUN')]\n"
     ]
    }
   ],
   "source": [
    "print('No of words in validation set corrected using the rule based approach', len(corrected_by_mod1),\n",
    "      '\\nSome of the words are:',corrected_by_mod1[:50])"
   ]
  },
  {
   "cell_type": "code",
   "execution_count": 166,
   "metadata": {},
   "outputs": [
    {
     "name": "stdout",
     "output_type": "stream",
     "text": [
      "No of words in validation set corrected using the probability approach 152 \n",
      "Some of the words are: [('Ruth', 'NOUN'), ('Cullowhee', 'NOUN'), ('Card', 'NOUN'), ('sweepstakes', 'NOUN'), ('R.D.', 'NOUN'), ('Vos', 'NOUN'), ('N.Y', 'NOUN'), ('Perch', 'NOUN'), ('Dolphin', 'NOUN'), ('Seahorse', 'NOUN'), ('Tarwhine', 'NOUN'), ('fattened', 'VERB'), ('male', 'NOUN'), ('Ancient', 'NOUN'), ('Youths', 'NOUN'), ('Westminster', 'NOUN'), ('Abbey', 'NOUN'), ('Kerensky', 'NOUN'), ('Communists', 'NOUN'), ('mania', 'NOUN'), ('knight', 'NOUN'), ('flightiness', 'NOUN'), ('standpoint', 'NOUN'), ('crapshoot', 'NOUN'), ('drinks', 'NOUN'), ('Different', 'NOUN'), ('spin-off', 'NOUN'), ('presentation', 'NOUN'), ('aids', 'NOUN'), ('windfall', 'NOUN'), ('carriers', 'NOUN'), ('Gunmen', 'NOUN'), ('Lebanon', 'NOUN'), ('Arabian', 'NOUN'), ('Islamic', 'NOUN'), ('slaying', 'NOUN'), ('avenge', 'VERB'), ('beheading', 'NOUN'), ('terrorists', 'NOUN'), ('Riyadh', 'NOUN'), ('bless', 'VERB'), ('GOODY', 'NOUN'), ('PRODUCTS', 'NOUN'), ('indictment', 'NOUN'), ('Sherwin', 'NOUN'), ('manipulate', 'VERB'), ('Carbide', 'NOUN'), ('*-129', 'X'), ('Rexinger', 'NOUN'), ('Glauber', 'NOUN')]\n"
     ]
    }
   ],
   "source": [
    "print('No of words in validation set corrected using the probability approach', len(corrected_by_mod2),\n",
    "      '\\nSome of the words are:',corrected_by_mod2[:50])"
   ]
  },
  {
   "cell_type": "markdown",
   "metadata": {},
   "source": [
    "###  Running the test file"
   ]
  },
  {
   "cell_type": "code",
   "execution_count": 207,
   "metadata": {},
   "outputs": [],
   "source": [
    "def pos_tagger(sentence_test):\n",
    "    words = word_tokenize(sentence_test)\n",
    "    \n",
    "    ## Testing on vanilla viterbi\n",
    "    tagged_seq = viterbi(words)\n",
    "    print('Tagged words using vanilla viterbi are as follows:\\n',tagged_seq)\n",
    "    \n",
    "    ## Testing on vanilla viterbi modification 1\n",
    "    tagged_seq = viterbi_mod1(words)\n",
    "    \n",
    "    ## Testing on vanilla viterbi modification 2\n",
    "    tagged_seq = viterbi_mod2(words)"
   ]
  },
  {
   "cell_type": "code",
   "execution_count": 203,
   "metadata": {},
   "outputs": [
    {
     "data": {
      "text/html": [
       "<div>\n",
       "<style scoped>\n",
       "    .dataframe tbody tr th:only-of-type {\n",
       "        vertical-align: middle;\n",
       "    }\n",
       "\n",
       "    .dataframe tbody tr th {\n",
       "        vertical-align: top;\n",
       "    }\n",
       "\n",
       "    .dataframe thead th {\n",
       "        text-align: right;\n",
       "    }\n",
       "</style>\n",
       "<table border=\"1\" class=\"dataframe\">\n",
       "  <thead>\n",
       "    <tr style=\"text-align: right;\">\n",
       "      <th></th>\n",
       "      <th>label</th>\n",
       "    </tr>\n",
       "  </thead>\n",
       "  <tbody>\n",
       "    <tr>\n",
       "      <th>0</th>\n",
       "      <td>Android is a mobile operating system developed...</td>\n",
       "    </tr>\n",
       "    <tr>\n",
       "      <th>1</th>\n",
       "      <td>Android has been the best-selling OS worldwide...</td>\n",
       "    </tr>\n",
       "    <tr>\n",
       "      <th>2</th>\n",
       "      <td>Google and Twitter made a deal in 2015 that ga...</td>\n",
       "    </tr>\n",
       "    <tr>\n",
       "      <th>3</th>\n",
       "      <td>Twitter is an online news and social networkin...</td>\n",
       "    </tr>\n",
       "    <tr>\n",
       "      <th>4</th>\n",
       "      <td>Before entering politics, Donald Trump was a d...</td>\n",
       "    </tr>\n",
       "    <tr>\n",
       "      <th>5</th>\n",
       "      <td>The 2018 FIFA World Cup is the 21st FIFA World...</td>\n",
       "    </tr>\n",
       "    <tr>\n",
       "      <th>6</th>\n",
       "      <td>This is the first World Cup to be held in East...</td>\n",
       "    </tr>\n",
       "    <tr>\n",
       "      <th>7</th>\n",
       "      <td>Show me the cheapest round trips from Dallas t...</td>\n",
       "    </tr>\n",
       "    <tr>\n",
       "      <th>8</th>\n",
       "      <td>I would like to see flights from Denver to Phi...</td>\n",
       "    </tr>\n",
       "    <tr>\n",
       "      <th>9</th>\n",
       "      <td>Show me the price of the flights leaving Atlan...</td>\n",
       "    </tr>\n",
       "    <tr>\n",
       "      <th>10</th>\n",
       "      <td>NASA invited social media users to experience ...</td>\n",
       "    </tr>\n",
       "  </tbody>\n",
       "</table>\n",
       "</div>"
      ],
      "text/plain": [
       "                                                label\n",
       "0   Android is a mobile operating system developed...\n",
       "1   Android has been the best-selling OS worldwide...\n",
       "2   Google and Twitter made a deal in 2015 that ga...\n",
       "3   Twitter is an online news and social networkin...\n",
       "4   Before entering politics, Donald Trump was a d...\n",
       "5   The 2018 FIFA World Cup is the 21st FIFA World...\n",
       "6   This is the first World Cup to be held in East...\n",
       "7   Show me the cheapest round trips from Dallas t...\n",
       "8   I would like to see flights from Denver to Phi...\n",
       "9   Show me the price of the flights leaving Atlan...\n",
       "10  NASA invited social media users to experience ..."
      ]
     },
     "execution_count": 203,
     "metadata": {},
     "output_type": "execute_result"
    }
   ],
   "source": [
    "# load data\n",
    "test = pd.read_csv(\"Test_sentences.txt\", sep = \"\\t\", names=[\"label\"])\n",
    "test"
   ]
  },
  {
   "cell_type": "code",
   "execution_count": 212,
   "metadata": {},
   "outputs": [
    {
     "name": "stdout",
     "output_type": "stream",
     "text": [
      "\n",
      "\n",
      " Android is a mobile operating system developed by Google.\n",
      "Tagged words using vanilla viterbi are as follows:\n",
      " [('Android', 'ADP'), ('is', 'VERB'), ('a', 'DET'), ('mobile', 'ADJ'), ('operating', 'NOUN'), ('system', 'NOUN'), ('developed', 'VERB'), ('by', 'ADP'), ('Google', 'ADP'), ('.', '.')]\n",
      "No of unknown words tagged using modification 1 :  2 \n",
      "Some of tagged words which were not in the training corpus by the modified algorithm 1:\n",
      " [['Android', 'NOUN'], ['Google', 'NOUN']]\n",
      "No of unknown words tagged using modification 2 :  2 \n",
      "Some of tagged words which were not in the training corpus by the modified algorithm 2:\n",
      " [['Android', 'NOUN'], ['Google', 'NOUN']]\n",
      "\n",
      "\n",
      " Android has been the best-selling OS worldwide on smartphones since 2011 and on tablets since 2013.\n",
      "Tagged words using vanilla viterbi are as follows:\n",
      " [('Android', 'ADP'), ('has', 'VERB'), ('been', 'VERB'), ('the', 'DET'), ('best-selling', 'ADJ'), ('OS', 'ADP'), ('worldwide', 'ADP'), ('on', 'ADP'), ('smartphones', 'ADP'), ('since', 'ADP'), ('2011', 'ADP'), ('and', 'CONJ'), ('on', 'ADP'), ('tablets', 'NOUN'), ('since', 'ADP'), ('2013', 'ADP'), ('.', '.')]\n",
      "No of unknown words tagged using modification 1 :  6 \n",
      "Some of tagged words which were not in the training corpus by the modified algorithm 1:\n",
      " [['Android', 'NOUN'], ['OS', 'NOUN'], ['worldwide', 'NOUN'], ['smartphones', 'NOUN'], ['2011', 'NUM']]\n",
      "No of unknown words tagged using modification 2 :  6 \n",
      "Some of tagged words which were not in the training corpus by the modified algorithm 2:\n",
      " [['Android', 'NOUN'], ['OS', 'NOUN'], ['worldwide', 'NOUN'], ['smartphones', 'NOUN'], ['2011', 'NOUN']]\n",
      "\n",
      "\n",
      " Google and Twitter made a deal in 2015 that gave Google access to Twitter's firehose.\n",
      "Tagged words using vanilla viterbi are as follows:\n",
      " [('Google', 'ADP'), ('and', 'CONJ'), ('Twitter', 'ADP'), ('made', 'VERB'), ('a', 'DET'), ('deal', 'NOUN'), ('in', 'ADP'), ('2015', 'ADP'), ('that', 'DET'), ('gave', 'VERB'), ('Google', 'ADP'), ('access', 'NOUN'), ('to', 'PRT'), ('Twitter', 'ADP'), (\"'s\", 'PRT'), ('firehose', 'ADP'), ('.', '.')]\n",
      "No of unknown words tagged using modification 1 :  6 \n",
      "Some of tagged words which were not in the training corpus by the modified algorithm 1:\n",
      " [['Google', 'NOUN'], ['Twitter', 'NOUN'], ['2015', 'NUM'], ['Google', 'NOUN'], ['Twitter', 'NOUN']]\n",
      "No of unknown words tagged using modification 2 :  6 \n",
      "Some of tagged words which were not in the training corpus by the modified algorithm 2:\n",
      " [['Google', 'NOUN'], ['Twitter', 'NOUN'], ['2015', 'NOUN'], ['Google', 'X'], ['Twitter', 'VERB']]\n",
      "\n",
      "\n",
      " Twitter is an online news and social networking service on which users post and interact with messages known as tweets.\n",
      "Tagged words using vanilla viterbi are as follows:\n",
      " [('Twitter', 'ADP'), ('is', 'VERB'), ('an', 'DET'), ('online', 'ADP'), ('news', 'NOUN'), ('and', 'CONJ'), ('social', 'ADJ'), ('networking', 'NOUN'), ('service', 'NOUN'), ('on', 'ADP'), ('which', 'DET'), ('users', 'NOUN'), ('post', 'NOUN'), ('and', 'CONJ'), ('interact', 'ADP'), ('with', 'ADP'), ('messages', 'ADP'), ('known', 'ADJ'), ('as', 'ADP'), ('tweets', 'ADP'), ('.', '.')]\n",
      "No of unknown words tagged using modification 1 :  5 \n",
      "Some of tagged words which were not in the training corpus by the modified algorithm 1:\n",
      " [['Twitter', 'NOUN'], ['online', 'NOUN'], ['interact', 'NOUN'], ['messages', 'NOUN'], ['tweets', 'NOUN']]\n",
      "No of unknown words tagged using modification 2 :  5 \n",
      "Some of tagged words which were not in the training corpus by the modified algorithm 2:\n",
      " [['Twitter', 'NOUN'], ['online', 'NOUN'], ['interact', 'NOUN'], ['messages', 'NOUN'], ['tweets', 'NOUN']]\n",
      "\n",
      "\n",
      " Before entering politics, Donald Trump was a domineering businessman and a television personality.\n",
      "Tagged words using vanilla viterbi are as follows:\n",
      " [('Before', 'ADP'), ('entering', 'VERB'), ('politics', 'NOUN'), (',', '.'), ('Donald', 'NOUN'), ('Trump', 'NOUN'), ('was', 'VERB'), ('a', 'DET'), ('domineering', 'ADP'), ('businessman', 'NOUN'), ('and', 'CONJ'), ('a', 'DET'), ('television', 'NOUN'), ('personality', 'ADP'), ('.', '.')]\n",
      "No of unknown words tagged using modification 1 :  2 \n",
      "Some of tagged words which were not in the training corpus by the modified algorithm 1:\n",
      " [['domineering', 'VERB'], ['personality', 'NOUN']]\n",
      "No of unknown words tagged using modification 2 :  2 \n",
      "Some of tagged words which were not in the training corpus by the modified algorithm 2:\n",
      " [['domineering', 'NOUN'], ['personality', 'NOUN']]\n",
      "\n",
      "\n",
      " The 2018 FIFA World Cup is the 21st FIFA World Cup, an international football tournament contested once every four years.\n",
      "Tagged words using vanilla viterbi are as follows:\n",
      " [('The', 'DET'), ('2018', 'ADP'), ('FIFA', 'ADP'), ('World', 'NOUN'), ('Cup', 'ADP'), ('is', 'VERB'), ('the', 'DET'), ('21st', 'ADP'), ('FIFA', 'ADP'), ('World', 'NOUN'), ('Cup', 'ADP'), (',', '.'), ('an', 'DET'), ('international', 'ADJ'), ('football', 'NOUN'), ('tournament', 'ADP'), ('contested', 'ADP'), ('once', 'ADV'), ('every', 'DET'), ('four', 'NUM'), ('years', 'NOUN'), ('.', '.')]\n",
      "No of unknown words tagged using modification 1 :  8 \n",
      "Some of tagged words which were not in the training corpus by the modified algorithm 1:\n",
      " [['2018', 'NUM'], ['FIFA', 'NOUN'], ['Cup', 'NOUN'], ['21st', 'NUM'], ['FIFA', 'NOUN']]\n",
      "No of unknown words tagged using modification 2 :  8 \n",
      "Some of tagged words which were not in the training corpus by the modified algorithm 2:\n",
      " [['2018', 'NOUN'], ['FIFA', 'NOUN'], ['Cup', 'NOUN'], ['21st', 'NOUN'], ['FIFA', 'NOUN']]\n",
      "\n",
      "\n",
      " This is the first World Cup to be held in Eastern Europe and the 11th time that it has been held in Europe.\n",
      "Tagged words using vanilla viterbi are as follows:\n",
      " [('This', 'DET'), ('is', 'VERB'), ('the', 'DET'), ('first', 'ADJ'), ('World', 'NOUN'), ('Cup', 'ADP'), ('to', 'PRT'), ('be', 'VERB'), ('held', 'VERB'), ('in', 'ADP'), ('Eastern', 'NOUN'), ('Europe', 'NOUN'), ('and', 'CONJ'), ('the', 'DET'), ('11th', 'ADJ'), ('time', 'NOUN'), ('that', 'ADP'), ('it', 'PRON'), ('has', 'VERB'), ('been', 'VERB'), ('held', 'VERB'), ('in', 'ADP'), ('Europe', 'NOUN'), ('.', '.')]\n",
      "No of unknown words tagged using modification 1 :  1 \n",
      "Some of tagged words which were not in the training corpus by the modified algorithm 1:\n",
      " [['Cup', 'NOUN']]\n",
      "No of unknown words tagged using modification 2 :  1 \n",
      "Some of tagged words which were not in the training corpus by the modified algorithm 2:\n",
      " [['Cup', 'NOUN']]\n",
      "\n",
      "\n",
      " Show me the cheapest round trips from Dallas to Atlanta\n",
      "Tagged words using vanilla viterbi are as follows:\n",
      " [('Show', 'NOUN'), ('me', 'PRON'), ('the', 'DET'), ('cheapest', 'ADJ'), ('round', 'NOUN'), ('trips', 'ADP'), ('from', 'ADP'), ('Dallas', 'NOUN'), ('to', 'PRT'), ('Atlanta', 'NOUN')]\n",
      "No of unknown words tagged using modification 1 :  1 \n",
      "Some of tagged words which were not in the training corpus by the modified algorithm 1:\n",
      " [['trips', 'NOUN']]\n",
      "No of unknown words tagged using modification 2 :  1 \n",
      "Some of tagged words which were not in the training corpus by the modified algorithm 2:\n",
      " [['trips', 'NOUN']]\n",
      "\n",
      "\n",
      " I would like to see flights from Denver to Philadelphia.\n",
      "Tagged words using vanilla viterbi are as follows:\n",
      " [('I', 'PRON'), ('would', 'VERB'), ('like', 'ADP'), ('to', 'PRT'), ('see', 'VERB'), ('flights', 'NOUN'), ('from', 'ADP'), ('Denver', 'NOUN'), ('to', 'PRT'), ('Philadelphia', 'NOUN'), ('.', '.')]\n",
      "No of unknown words tagged using modification 1 :  0 \n",
      "Some of tagged words which were not in the training corpus by the modified algorithm 1:\n",
      " []\n",
      "No of unknown words tagged using modification 2 :  0 \n",
      "Some of tagged words which were not in the training corpus by the modified algorithm 2:\n",
      " []\n",
      "\n",
      "\n",
      " Show me the price of the flights leaving Atlanta at about 3 in the afternoon and arriving in San Francisco.\n",
      "Tagged words using vanilla viterbi are as follows:\n",
      " [('Show', 'NOUN'), ('me', 'PRON'), ('the', 'DET'), ('price', 'NOUN'), ('of', 'ADP'), ('the', 'DET'), ('flights', 'NOUN'), ('leaving', 'VERB'), ('Atlanta', 'NOUN'), ('at', 'ADP'), ('about', 'ADP'), ('3', 'NUM'), ('in', 'ADP'), ('the', 'DET'), ('afternoon', 'NOUN'), ('and', 'CONJ'), ('arriving', 'ADP'), ('in', 'ADP'), ('San', 'NOUN'), ('Francisco', 'NOUN'), ('.', '.')]\n",
      "No of unknown words tagged using modification 1 :  1 \n",
      "Some of tagged words which were not in the training corpus by the modified algorithm 1:\n",
      " [['arriving', 'VERB']]\n"
     ]
    },
    {
     "name": "stdout",
     "output_type": "stream",
     "text": [
      "No of unknown words tagged using modification 2 :  1 \n",
      "Some of tagged words which were not in the training corpus by the modified algorithm 2:\n",
      " [['arriving', 'NOUN']]\n",
      "\n",
      "\n",
      " NASA invited social media users to experience the launch of ICESAT-2 Satellite.\n",
      "Tagged words using vanilla viterbi are as follows:\n",
      " [('NASA', 'ADP'), ('invited', 'ADP'), ('social', 'ADJ'), ('media', 'NOUN'), ('users', 'NOUN'), ('to', 'PRT'), ('experience', 'NOUN'), ('the', 'DET'), ('launch', 'NOUN'), ('of', 'ADP'), ('ICESAT-2', 'ADP'), ('Satellite', 'ADP'), ('.', '.')]\n",
      "No of unknown words tagged using modification 1 :  4 \n",
      "Some of tagged words which were not in the training corpus by the modified algorithm 1:\n",
      " [['NASA', 'NOUN'], ['invited', 'VERB'], ['ICESAT-2', 'NOUN'], ['Satellite', 'NOUN']]\n",
      "No of unknown words tagged using modification 2 :  4 \n",
      "Some of tagged words which were not in the training corpus by the modified algorithm 2:\n",
      " [['NASA', 'NOUN'], ['invited', 'NOUN'], ['ICESAT-2', 'NOUN'], ['Satellite', 'NOUN']]\n"
     ]
    }
   ],
   "source": [
    "for sentence in test['label']:\n",
    "    print('\\n\\n',sentence)\n",
    "    pos_tagger(sentence)"
   ]
  },
  {
   "cell_type": "markdown",
   "metadata": {},
   "source": [
    "All the words that are being identified by the modified algorithm are shown in the above output.\n",
    "Mostly Nouns are being identified correctly which where identified as ADP by Vanilla viterbi algorithm.\n",
    "For example; Android(as noun), Google(as noun), smartphones(as noun), 2015(as NUM) and many others."
   ]
  }
 ],
 "metadata": {
  "kernelspec": {
   "display_name": "Python 3",
   "language": "python",
   "name": "python3"
  },
  "language_info": {
   "codemirror_mode": {
    "name": "ipython",
    "version": 3
   },
   "file_extension": ".py",
   "mimetype": "text/x-python",
   "name": "python",
   "nbconvert_exporter": "python",
   "pygments_lexer": "ipython3",
   "version": "3.7.6"
  }
 },
 "nbformat": 4,
 "nbformat_minor": 2
}
